{
  "nbformat": 4,
  "nbformat_minor": 0,
  "metadata": {
    "colab": {
      "provenance": []
    },
    "kernelspec": {
      "name": "python3",
      "display_name": "Python 3"
    },
    "language_info": {
      "name": "python"
    }
  },
  "cells": [
    {
      "cell_type": "markdown",
      "source": [
        "**Pincode Distance**"
      ],
      "metadata": {
        "id": "ISVrnRZJSWvm"
      }
    },
    {
      "cell_type": "code",
      "execution_count": null,
      "metadata": {
        "id": "lQbQM8H5NkaU"
      },
      "outputs": [],
      "source": [
        "We can create an entity class to represent the pincode information in the database. This class can have fields such as pincode, latitude, longitude, and polygon coordinates.\n",
        "\n",
        "Distance Entity: We can create another entity class to represent the distance information between two pin codes. This class can have fields such as the from pincode, to pincode, distance, duration, and route.\n",
        "\n",
        "Google Maps API Wrapper: We can create a class that uses the Google Maps API to fetch the duration and route between two pin codes. We can also cache the response in memory or using a distributed caching mechanism such as Redis.\n",
        "\n",
        "Pincode Service: We can create a service class that uses the Pincode and Distance entities to store and retrieve the pincode and distance information from the database.\n",
        "\n",
        "REST API: We can create a REST API endpoint that takes in two pin codes and returns the distance and duration along with each route between them. This API can use the Google Maps API wrapper and Pincode service to fetch and store the information.\n",
        "\n",
        "Testing: We can use JUnit and Mockito to write unit tests for the various components. We can also use Postman to test the REST API.\n",
        "\n",
        "Optimization: To optimize the API calls, we can use caching as mentioned earlier. We can also use a load balancer and a CDN to distribute the load and reduce the latency."
      ]
    },
    {
      "cell_type": "markdown",
      "source": [
        "**Pincode Entity:**"
      ],
      "metadata": {
        "id": "-MnHs0tVStt-"
      }
    },
    {
      "cell_type": "code",
      "source": [
        "@Entity\n",
        "public class Pincode {\n",
        "    @Id\n",
        "    private String pincode;\n",
        "    private double latitude;\n",
        "    private double longitude;\n",
        "    // polygon coordinates\n",
        "    // getters and setters\n",
        "}\n"
      ],
      "metadata": {
        "id": "AdJG8Yt8Sjg9"
      },
      "execution_count": null,
      "outputs": []
    },
    {
      "cell_type": "markdown",
      "source": [
        "**Distance Entity:**"
      ],
      "metadata": {
        "id": "FunWAluQSwlU"
      }
    },
    {
      "cell_type": "code",
      "source": [
        "@Entity\n",
        "public class Distance {\n",
        "    @Id\n",
        "    @GeneratedValue(strategy = GenerationType.IDENTITY)\n",
        "    private Long id;\n",
        "    private String fromPincode;\n",
        "    private String toPincode;\n",
        "    private double distance;\n",
        "    private double duration;\n",
        "    private String route;\n",
        "    // getters and setters\n",
        "}\n"
      ],
      "metadata": {
        "id": "WQTKsh5nSjij"
      },
      "execution_count": null,
      "outputs": []
    },
    {
      "cell_type": "markdown",
      "source": [
        "**Google Maps API Wrapper:**"
      ],
      "metadata": {
        "id": "Jn2Du3AtS4jA"
      }
    },
    {
      "cell_type": "code",
      "source": [
        "public class GoogleMapsAPIWrapper {\n",
        "    private static final String BASE_URL = \"https://maps.googleapis.com/maps/api/directions/json\";\n",
        "    private RestTemplate restTemplate;\n",
        "    private String apiKey;\n",
        "    private Map<String, Distance> cache;\n",
        "\n",
        "    public GoogleMapsAPIWrapper(RestTemplate restTemplate, String apiKey) {\n",
        "        this.restTemplate = restTemplate;\n",
        "        this.apiKey = apiKey;\n",
        "        this.cache = new ConcurrentHashMap<>();\n",
        "    }\n",
        "\n",
        "    public Distance getDistance(String fromPincode, String toPincode) {\n",
        "        String key = fromPincode + \"-\" + toPincode;\n",
        "        if (cache.containsKey(key)) {\n",
        "            return cache.get(key);\n",
        "        }\n",
        "        String url = BASE_URL + \"?origin=\" + fromPincode + \"&destination=\" + toPincode + \"&key=\" + apiKey;\n",
        "        // make REST call using RestTemplate\n",
        "        // parse response and create Distance object\n",
        "        Distance distance = new Distance(fromPincode, toPincode, distance, duration, route);\n",
        "        cache.put(key, distance);\n",
        "        return distance;\n",
        "    }\n",
        "}\n"
      ],
      "metadata": {
        "id": "6o8SpIa4SpoD"
      },
      "execution_count": null,
      "outputs": []
    },
    {
      "cell_type": "markdown",
      "source": [
        "**Pincode Service:**"
      ],
      "metadata": {
        "id": "wcnRUhXVS_3R"
      }
    },
    {
      "cell_type": "code",
      "source": [
        "@Service\n",
        "public class PincodeService {\n",
        "    @Autowired\n",
        "    private PincodeRepository pincodeRepository;\n",
        "\n",
        "    @Autowired\n",
        "    private DistanceRepository distanceRepository;\n",
        "\n",
        "    @Autowired\n",
        "    private GoogleMapsAPIWrapper googleMapsAPIWrapper;\n",
        "\n",
        "    public void savePincode(Pincode pincode) {\n",
        "        pincodeRepository.save(pincode);\n",
        "    }\n",
        "\n",
        "    public void saveDistance(String fromPincode, String toPin\n"
      ],
      "metadata": {
        "id": "IY2cpAC3Srqr"
      },
      "execution_count": null,
      "outputs": []
    }
  ]
}